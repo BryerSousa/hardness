{
 "cells": [
  {
   "cell_type": "markdown",
   "metadata": {},
   "source": [
    "# INDENTATION 2D EXAMPLE WITH ARGIOPE AND HARDNESS "
   ]
  },
  {
   "cell_type": "code",
   "execution_count": 221,
   "metadata": {
    "collapsed": false
   },
   "outputs": [
    {
     "name": "stdout",
     "output_type": "stream",
     "text": [
      "The autoreload extension is already loaded. To reload it, use:\n",
      "  %reload_ext autoreload\n"
     ]
    }
   ],
   "source": [
    "%load_ext autoreload\n",
    "%autoreload 2"
   ]
  },
  {
   "cell_type": "code",
   "execution_count": 241,
   "metadata": {
    "collapsed": false
   },
   "outputs": [],
   "source": [
    "import matplotlib.pyplot as plt\n",
    "import hardness as hd\n",
    "import argiope as ag\n",
    "import pandas as pd\n",
    "import numpy as np\n",
    "import os, subprocess, time, local_settings, time\n",
    "%matplotlib nbagg\n",
    "\n",
    "# USEFUL FUNCTIONS\n",
    "def create_dir(path):\n",
    "  try:\n",
    "    os.mkdir(path)\n",
    "  except:\n",
    "    pass"
   ]
  },
  {
   "cell_type": "markdown",
   "metadata": {},
   "source": [
    "## Settings"
   ]
  },
  {
   "cell_type": "code",
   "execution_count": 242,
   "metadata": {
    "collapsed": true
   },
   "outputs": [],
   "source": [
    "# SETTINGS\n",
    "workdir   = \"workdir/\"\n",
    "outputdir = \"outputs/\"\n",
    "label   = \"indentation_2D\"\n",
    "\n",
    "create_dir(workdir)\n",
    "create_dir(workdir + outputdir)     "
   ]
  },
  {
   "cell_type": "markdown",
   "metadata": {},
   "source": [
    "## Model definition"
   ]
  },
  {
   "cell_type": "code",
   "execution_count": 263,
   "metadata": {
    "collapsed": false
   },
   "outputs": [],
   "source": [
    "#-------------------------------------------------------------------------------\n",
    "# MESH DEFINITIONS\n",
    "def element_map(mesh):\n",
    "    mesh.elements.loc[mesh.elements.type.argiope == \"tri3\", (\"type\", \"solver\", \"\")] = \"CAX3\" \n",
    "    mesh.elements.loc[mesh.elements.type.argiope == \"quad4\", (\"type\", \"solver\", \"\")] = \"CAX4\" \n",
    "    return mesh\n",
    "    \n",
    "    \n",
    "def sample_material_map(mesh):\n",
    "    mesh.elements[\"materials\"] = \"SAMPLE_MAT\" \n",
    "    return mesh\n",
    "\n",
    "def indenter_material_map(mesh):\n",
    "    mesh.elements[\"materials\"] = \"INDENTER_MAT\" \n",
    "    return mesh\n",
    "    \n",
    "    \n",
    "meshes = {\n",
    "    \"sample\" : hd.models.sample_mesh_2D(\"gmsh\", \n",
    "                                   workdir, \n",
    "                                   lx = 1., ly = 1., \n",
    "                                   r1 = 2., r2 = 4., \n",
    "                                   Nx = 32, Ny = 32, \n",
    "                                   Nr = 4, Nt = 64,\n",
    "                                   element_map = element_map,\n",
    "                                   material_map = sample_material_map),\n",
    "                                   \n",
    "    \"indenter\" : hd.models.spheroconical_indenter_mesh_2D(\"gmsh\", \n",
    "                                   workdir, \n",
    "                                   R = 1.,\n",
    "                                   psi= 30., \n",
    "                                   r1 = 1., \n",
    "                                   r2 = 10., \n",
    "                                   r3 = 10., \n",
    "                                   lc1 = .03, \n",
    "                                   lc2 = 20.,\n",
    "                                   rigid = False,\n",
    "                                   element_map = element_map,\n",
    "                                   material_map = indenter_material_map)}\n",
    "                                   \n",
    "materials = [ag.materials.Hollomon(label = \"SAMPLE_MAT\", strain_data_points = 10),\n",
    "             ag.materials.Hollomon(label = \"INDENTER_MAT\", strain_data_points = 10)]\n",
    "    \n",
    "\"\"\"\n",
    "sample_mesh.save(h5path = workdir + outputdir + simName + \"_sample_mesh.h5\")\n",
    "indenter_mesh.save(h5path = workdir + outputdir + simName + \"_indenter_mesh.h5\")  \n",
    "\"\"\"   \n",
    "#-------------------------------------------------------------------------------\n",
    "# STEP DEFINTIONS\n",
    "steps = [\n",
    "        hd.models.indentation_2D_step_input(name = \"LOADING1\",\n",
    "                                            control_type = \"disp\", \n",
    "                                            duration = 1.,\n",
    "                                            kind = \"adaptative\",  \n",
    "                                            nframes = 50,\n",
    "                                            controlled_value = -0.1),\n",
    "        hd.models.indentation_2D_step_input(name = \"UNLOADING1\",\n",
    "                                            control_type = \"force\", \n",
    "                                            duration = 1.,\n",
    "                                            kind = \"adaptative\",  \n",
    "                                            nframes = 50,\n",
    "                                            controlled_value = 0.),\n",
    "        hd.models.indentation_2D_step_input(name = \"RELOADING1\",\n",
    "                                            control_type = \"disp\", \n",
    "                                            duration = 1.,\n",
    "                                            kind = \"adaptative\",  \n",
    "                                            nframes = 50,\n",
    "                                            controlled_value = -0.1),\n",
    "        hd.models.indentation_2D_step_input(name = \"LOADING2\",\n",
    "                                            control_type = \"disp\", \n",
    "                                            duration = 1.,\n",
    "                                            kind = \"adaptative\",  \n",
    "                                            nframes = 50,\n",
    "                                            controlled_value = -0.2),                                    \n",
    "        hd.models.indentation_2D_step_input(name = \"UNLOADING2\",\n",
    "                                            control_type = \"force\",\n",
    "                                            kind = \"adaptative\", \n",
    "                                            duration = 1., \n",
    "                                            nframes = 50,\n",
    "                                            controlled_value = 0.)\n",
    "        ]                                                                                                  \n",
    "#-------------------------------------------------------------------------------\n",
    "\"\"\"                                  \n",
    "hd.models.indentation_2D_input(sample_mesh   = sample_mesh,\n",
    "                            indenter_mesh = indenter_mesh,\n",
    "                            steps = steps ,\n",
    "                            path = workdir + simName + \".inp\")\n",
    "                                     \n",
    "hd.postproc.indentation_abqpostproc(path = workdir + simName + \"_abqpp.py\")        \n",
    "hd.postproc.indentation_pypostproc(path = workdir + simName + \"_pypp.py\") \n",
    "\"\"\"\n",
    "#-------------------------------------------------------------------------------\n",
    "model = hd.models.Indentation2D(label = label, \n",
    "                      meshes = meshes, \n",
    "                      steps = steps, \n",
    "                      materials = materials, \n",
    "                      solver = \"abaqus\", \n",
    "                      solver_path = local_settings.ABAQUS_PATH,\n",
    "                      workdir = workdir,\n",
    "                      verbose = True)\n",
    "\n"
   ]
  },
  {
   "cell_type": "code",
   "execution_count": 264,
   "metadata": {
    "collapsed": false
   },
   "outputs": [
    {
     "name": "stdout",
     "output_type": "stream",
     "text": [
      "<Post-Processing\"indentation_2D\" using abaqus>\n",
      "(b'', None)\n",
      "<Post-Processed indentation_2D: duration 3.55s>\n"
     ]
    }
   ],
   "source": [
    "model.write_input()\n",
    "#model.run_simulation()\n",
    "model.write_postproc()\n",
    "model.run_postproc()\n"
   ]
  },
  {
   "cell_type": "code",
   "execution_count": 271,
   "metadata": {
    "collapsed": false
   },
   "outputs": [],
   "source": [
    "#model.write_postproc()\n",
    "#model.run_postproc()\n",
    "model.save(workdir + label + \".pcklz\")\n",
    "model = ag.utils.load(workdir + label + \".pcklz\")"
   ]
  },
  {
   "cell_type": "code",
   "execution_count": 267,
   "metadata": {
    "collapsed": false,
    "scrolled": true
   },
   "outputs": [],
   "source": [
    "path = \"workdir/reports/indentation_2D_instance-I_INDENTER_step-LOADING1_frame--1_var-S.frpt\""
   ]
  },
  {
   "cell_type": "code",
   "execution_count": 268,
   "metadata": {
    "collapsed": false
   },
   "outputs": [],
   "source": [
    "mdata, data = ag.abq.pypostproc.read_field_report(path)"
   ]
  },
  {
   "cell_type": "code",
   "execution_count": 295,
   "metadata": {
    "collapsed": false
   },
   "outputs": [],
   "source": [
    "indenter =  hd.models.SpheroconicalIndenter2D(\n",
    "                                   R = 1.,\n",
    "                                   psi= 30., \n",
    "                                   r1 = 1., \n",
    "                                   r2 = 10., \n",
    "                                   r3 = 10., \n",
    "                                   lc1 = .03, \n",
    "                                   lc2 = 20.,\n",
    "                                   rigid = False,\n",
    "                                   gmsh_path = \"gmsh\",\n",
    "                                   file_name = \"dummy\", \n",
    "                                   workdir = workdir, \n",
    "                                   gmsh_space = 2, \n",
    "                                   gmsh_options = \"-algo 'delquad'\",\n",
    "                                   element_map = element_map,\n",
    "                                   material_map = indenter_material_map)\n",
    "\n",
    "indenter.preprocess_mesh()"
   ]
  },
  {
   "cell_type": "code",
   "execution_count": 281,
   "metadata": {
    "collapsed": false
   },
   "outputs": [
    {
     "ename": "AttributeError",
     "evalue": "module 'hardness.models' has no attribute 'SpheroconicalIndenter2D'",
     "output_type": "error",
     "traceback": [
      "\u001b[0;31m---------------------------------------------------------------------------\u001b[0m",
      "\u001b[0;31mAttributeError\u001b[0m                            Traceback (most recent call last)",
      "\u001b[0;32m<ipython-input-281-a2373acd4be1>\u001b[0m in \u001b[0;36m<module>\u001b[0;34m()\u001b[0m\n\u001b[0;32m----> 1\u001b[0;31m \u001b[0mhd\u001b[0m\u001b[0;34m.\u001b[0m\u001b[0mmodels\u001b[0m\u001b[0;34m.\u001b[0m\u001b[0mSpheroconicalIndenter2D\u001b[0m\u001b[0;34m(\u001b[0m\u001b[0;34m)\u001b[0m\u001b[0;34m\u001b[0m\u001b[0m\n\u001b[0m",
      "\u001b[0;31mAttributeError\u001b[0m: module 'hardness.models' has no attribute 'SpheroconicalIndenter2D'"
     ]
    }
   ],
   "source": [
    "hd.models.SpheroconicalIndenter2D()"
   ]
  },
  {
   "cell_type": "code",
   "execution_count": null,
   "metadata": {
    "collapsed": true
   },
   "outputs": [],
   "source": []
  }
 ],
 "metadata": {
  "anaconda-cloud": {},
  "kernelspec": {
   "display_name": "Python [conda root]",
   "language": "python",
   "name": "conda-root-py"
  },
  "language_info": {
   "codemirror_mode": {
    "name": "ipython",
    "version": 3
   },
   "file_extension": ".py",
   "mimetype": "text/x-python",
   "name": "python",
   "nbconvert_exporter": "python",
   "pygments_lexer": "ipython3",
   "version": "3.5.2"
  }
 },
 "nbformat": 4,
 "nbformat_minor": 1
}
